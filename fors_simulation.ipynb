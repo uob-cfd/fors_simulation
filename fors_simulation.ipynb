{
 "cells": [
  {
   "cell_type": "markdown",
   "id": "3ef87dc4",
   "metadata": {},
   "source": [
    "# For loops, indexing, simulation"
   ]
  },
  {
   "cell_type": "markdown",
   "id": "42117161",
   "metadata": {},
   "source": [
    "## To start"
   ]
  },
  {
   "cell_type": "code",
   "execution_count": null,
   "id": "57707d25",
   "metadata": {},
   "outputs": [],
   "source": [
    "# Don't change this cell; just run it.\n",
    "\n",
    "# Load the standard array library.\n",
    "import numpy as np\n",
    "\n",
    "# Load the Pandas library for loading data.\n",
    "import pandas as pd\n",
    "\n",
    "# The OKpy testing system.\n",
    "from client.api.notebook import Notebook\n",
    "ok = Notebook('fors_simulation.ok')"
   ]
  },
  {
   "cell_type": "markdown",
   "id": "fb889c7d",
   "metadata": {},
   "source": [
    "The questions start fairly slowly, but they pick up speed towards the end."
   ]
  },
  {
   "cell_type": "markdown",
   "id": "7a2e84dd",
   "metadata": {},
   "source": [
    "## Fixing for loops\n",
    "\n",
    "Some cells in this section have errors in syntax or in logic, or both.  You\n",
    "will need to fix these before you can get to the solution.\n",
    "\n",
    "A syntax error happens when the code does not correspond to Python's rules;\n",
    "Python generates an error with some information about which bit of the code\n",
    "caused the problem.\n",
    "\n",
    "A logic error is where the code does run, but does not do what it was intended\n",
    "to do.\n",
    "\n",
    "In all these exercises, when you see `...` it tells you that there is something\n",
    "you need to fill in, to make the code work correctly."
   ]
  },
  {
   "cell_type": "code",
   "execution_count": null,
   "id": "49332f2a",
   "metadata": {},
   "outputs": [],
   "source": [
    "#- Fix and finish this code to add all the numbers from 1 through 12\n",
    "total1 = ...\n",
    "#- You need to fix something here.\n",
    "for my_var in np.arange(1, 13)\n",
    "    #- Add the number to the total\n",
    "    total1 = total1 + my_var\n",
    "\n",
    "# Show the total\n",
    "total1"
   ]
  },
  {
   "cell_type": "markdown",
   "id": "51b54360",
   "metadata": {},
   "source": [
    "Test your answer with:"
   ]
  },
  {
   "cell_type": "code",
   "execution_count": null,
   "id": "14bf1847",
   "metadata": {},
   "outputs": [],
   "source": [
    "_ = ok.grade('q_total1')"
   ]
  },
  {
   "cell_type": "markdown",
   "id": "498c4abc",
   "metadata": {},
   "source": [
    "Fix and finish the following \"for\" loop code:"
   ]
  },
  {
   "cell_type": "code",
   "execution_count": null,
   "id": "a47fd95d",
   "metadata": {},
   "outputs": [],
   "source": [
    "#- Multiply all the numbers from 3 through 10\n",
    "#- as in 3 * 4 * 5 * 6 * 7 * 8 * 9 * 10\n",
    "#- but use a \"for\" loop.\n",
    "total2 = ...\n",
    "for v in np.arange(3, 11):\n",
    "total2 = total2 * v\n",
    "\n",
    "# Show the total\n",
    "total2"
   ]
  },
  {
   "cell_type": "markdown",
   "id": "0e1dd520",
   "metadata": {},
   "source": [
    "Test your answer:"
   ]
  },
  {
   "cell_type": "code",
   "execution_count": null,
   "id": "6f7109c8",
   "metadata": {},
   "outputs": [],
   "source": [
    "_ = ok.grade('q_total2')"
   ]
  },
  {
   "cell_type": "markdown",
   "id": "33694c30",
   "metadata": {},
   "source": [
    "In the next cell, load [this\n",
    "dataset](https://github.com/matthew-brett/datasets/tree/master/good_and_easy)\n",
    "as a data frame named `courses`.  The dataset contains the average of student\n",
    "ratings for US professors within subjects, such as Psychology, Mathematics and\n",
    "so on.  The filename for the dataset is `rate_my_course.csv`."
   ]
  },
  {
   "cell_type": "code",
   "execution_count": null,
   "id": "01b51417",
   "metadata": {},
   "outputs": [],
   "source": [
    "#- Load the dataset\n",
    "courses = ...\n",
    "\n",
    "# Show the top 5 rows.\n",
    "courses.head()"
   ]
  },
  {
   "cell_type": "code",
   "execution_count": null,
   "id": "43adba65",
   "metadata": {},
   "outputs": [],
   "source": [
    "_ = ok.grade('q_courses')"
   ]
  },
  {
   "cell_type": "markdown",
   "id": "15c596a2",
   "metadata": {},
   "source": [
    "Now sort `courses` by the values in the `Easiness` column, and put the rows for the top 10 easiest courses into a new data frame, `easy_top_10`.  The rows should be sorted by the `Easiness` values, easiest first."
   ]
  },
  {
   "cell_type": "code",
   "execution_count": null,
   "id": "816e2d1e",
   "metadata": {},
   "outputs": [],
   "source": [
    "#- Put the rows for the 10 easiest courses into their own data frame.\n",
    "easy_top_10 = ...\n",
    "\n",
    "# Show the data frame\n",
    "easy_top_10"
   ]
  },
  {
   "cell_type": "code",
   "execution_count": null,
   "id": "2f956e5c",
   "metadata": {},
   "outputs": [],
   "source": [
    "_ = ok.grade('q_easy_top_10')"
   ]
  },
  {
   "cell_type": "markdown",
   "id": "04386037",
   "metadata": {},
   "source": [
    "Here is a skeleton of a \"for\" loop to calculate the mean of the 10 easiness\n",
    "ratings from this data frame.   Of course, there's an easier way to do this calculation, but, just for practice.  There is a deliberate mistake in this code, for you to fix.\n"
   ]
  },
  {
   "cell_type": "code",
   "execution_count": null,
   "id": "e11e9de9",
   "metadata": {},
   "outputs": [],
   "source": [
    "total = 1\n",
    "for i in np.arange(10):\n",
    "    row = easy_top_10.iloc...\n",
    "    rating = row.loc...\n",
    "    total = ...\n",
    "mean_easy = ...\n",
    "\n",
    "# Show the mean difference\n",
    "mean_easy"
   ]
  },
  {
   "cell_type": "markdown",
   "id": "6eae6294",
   "metadata": {},
   "source": [
    "Test your answer:"
   ]
  },
  {
   "cell_type": "code",
   "execution_count": null,
   "id": "8e071b79",
   "metadata": {
    "lines_to_next_cell": 2
   },
   "outputs": [],
   "source": [
    "_ = ok.grade('q_mean_easy')"
   ]
  },
  {
   "cell_type": "markdown",
   "id": "8197553c",
   "metadata": {},
   "source": [
    "## Christenings in London\n",
    "\n",
    "In our simulations of the three girls problem, we assumed that the chance of having a girl is the same as the chance of having a boy.\n",
    "\n",
    "In fact this is not quite true - on any one birth, the child is very slightly more likely to be male than female.\n",
    "\n",
    "This odd fact was the inspiration for the very first statistical hypothesis\n",
    "test, by Dr John Arbuthnot, in 1710.  He was interested in the number of male\n",
    "and female children born in London.  As a way of getting at this, he collected\n",
    "records of number of christenings of male and female children between 1629 and\n",
    "1710 - see [Arbuthnot's christening\n",
    "data](https://github.com/matthew-brett/datasets/tree/master/arbuthnot).\n",
    "\n",
    "Here are the number of christenings of male children for each year\n",
    "from 1629 through 1710."
   ]
  },
  {
   "cell_type": "code",
   "execution_count": null,
   "id": "d6ad4f28",
   "metadata": {},
   "outputs": [],
   "source": [
    "# Run this cell; do not change it.\n",
    "# Load the data.\n",
    "christenings = pd.read_csv('arbuthnot.csv')\n",
    "christenings.head()"
   ]
  },
  {
   "cell_type": "markdown",
   "id": "69b7cbb6",
   "metadata": {},
   "source": [
    "There are 82 values, one for each year from 1629 through 1710:"
   ]
  },
  {
   "cell_type": "code",
   "execution_count": null,
   "id": "207231c2",
   "metadata": {},
   "outputs": [],
   "source": [
    "# Run this cell.\n",
    "# It shows the number of rows in the table.\n",
    "len(christenings)"
   ]
  },
  {
   "cell_type": "markdown",
   "id": "b86ca9c3",
   "metadata": {},
   "source": [
    "Arbuthnot was interested in whether there were more males than females born, in each year.  To do this calculation, we first need to subtract the number of females from the number of males, to get 82 difference values.  For example, this is the first difference value we want:"
   ]
  },
  {
   "cell_type": "code",
   "execution_count": null,
   "id": "0874fadd",
   "metadata": {},
   "outputs": [],
   "source": [
    "# Run this cell.\n",
    "# The first difference value\n",
    "christenings['Males'].iloc[0] - christenings['Females'].iloc[0]"
   ]
  },
  {
   "cell_type": "markdown",
   "id": "a6bfc64c",
   "metadata": {},
   "source": [
    "The second difference value:"
   ]
  },
  {
   "cell_type": "code",
   "execution_count": null,
   "id": "c85cbb33",
   "metadata": {},
   "outputs": [],
   "source": [
    "# Run this cell.\n",
    "# The second difference value\n",
    "christenings['Males'].iloc[1] - christenings['Females'].iloc[1]"
   ]
  },
  {
   "cell_type": "markdown",
   "id": "18fe8042",
   "metadata": {},
   "source": [
    "Now make a new *column* in the `christenings` data frame, called `Difference`\n",
    "that has the difference values corresponding to the `Male` and `Female` values\n",
    "in each row.  The first element in the column will be 535, the second will be\n",
    "401, and so on:"
   ]
  },
  {
   "cell_type": "code",
   "execution_count": null,
   "id": "6cc8ab00",
   "metadata": {},
   "outputs": [],
   "source": [
    "...\n",
    "\n",
    "# Show the differences values\n",
    "christenings['Difference']"
   ]
  },
  {
   "cell_type": "code",
   "execution_count": null,
   "id": "1afdc39d",
   "metadata": {},
   "outputs": [],
   "source": [
    "_ = ok.grade('q_differences')"
   ]
  },
  {
   "cell_type": "markdown",
   "id": "6ea199a3",
   "metadata": {},
   "source": [
    "Back to Arbuthnot's problem - we now ask - for what proportion of these 82\n",
    "years were there more male than female births?  Use `np.count_nonzero` and\n",
    "comparison to show the *proportion* of the `differences` values that are\n",
    "greater than 0."
   ]
  },
  {
   "cell_type": "code",
   "execution_count": null,
   "id": "2b0223b5",
   "metadata": {},
   "outputs": [],
   "source": [
    "p_gt_0 = ...\n",
    "\n",
    "# Show the proportion.\n",
    "p_gt_0"
   ]
  },
  {
   "cell_type": "markdown",
   "id": "fd6ba3c5",
   "metadata": {},
   "source": [
    "Test your answer:"
   ]
  },
  {
   "cell_type": "code",
   "execution_count": null,
   "id": "1caef424",
   "metadata": {},
   "outputs": [],
   "source": [
    "_ = ok.grade('q_p_gt_0')"
   ]
  },
  {
   "cell_type": "markdown",
   "id": "ba2063ae",
   "metadata": {},
   "source": [
    "The result you have just found is the one that interested Arbuthnot.  He\n",
    "reasoned that the result cannot be explained by chance variation, and backed\n",
    "this up with some calculations of probability.\n",
    "\n",
    "We can use *simulation* to see how likely this proportion is, by chance.\n",
    "\n",
    "Let us assume that we live in a world where the chance of a boy being born is\n",
    "equal to that of a girl, and that every boy and girl born, is christened.\n",
    "\n",
    "In that case, when we look at the number of christenings for males and females,\n",
    "we expect to see more girls than boys about half the time, and more boys than\n",
    "girls about half the time (with some rare ties).  Therefore, the chance that\n",
    "there will be more male births than female births is just a little bit less\n",
    "than 50%.  At a first pass, we can simulate the chances of getting\n",
    "more boys than girls in any one year, as a coin toss."
   ]
  },
  {
   "cell_type": "code",
   "execution_count": null,
   "id": "d9d8ab38",
   "metadata": {},
   "outputs": [],
   "source": [
    "# Run this cell.\n",
    "# A coin toss (either 0 or 1)\n",
    "coin_toss = np.random.randint(0, 2)\n",
    "coin_toss"
   ]
  },
  {
   "cell_type": "markdown",
   "id": "1f018de5",
   "metadata": {},
   "source": [
    "Then simulating 82 years is the same as simulating 82 coin tosses:"
   ]
  },
  {
   "cell_type": "code",
   "execution_count": null,
   "id": "282d8dfb",
   "metadata": {},
   "outputs": [],
   "source": [
    "# Run this cell.\n",
    "# 82 coin tosses (either 0 or 1)\n",
    "coin_tosses = np.random.randint(0, 2, size=82)\n",
    "coin_tosses"
   ]
  },
  {
   "cell_type": "markdown",
   "id": "d171cdea",
   "metadata": {},
   "source": [
    "The proportion of heads is:"
   ]
  },
  {
   "cell_type": "code",
   "execution_count": null,
   "id": "ee35e47b",
   "metadata": {},
   "outputs": [],
   "source": [
    "# Run this cell.\n",
    "p_heads = np.count_nonzero(coin_tosses == 1) / 82\n",
    "p_heads"
   ]
  },
  {
   "cell_type": "markdown",
   "id": "7cfc133d",
   "metadata": {},
   "source": [
    "Now the simulation.   The code above does one single trial of the simulation, where one trial simulates 82 years.  Now do 10000 simulations where each of the 10000 trials simulates 82 years.   For each trial calculate the proportion of heads, and store the proportion in a 10000 element array called `proportions`.\n",
    "\n",
    "Look at [leaping ahead](https://uob-ds.github.io/cfd2021/arrays/leaping_ahead) for\n",
    "inspiration."
   ]
  },
  {
   "cell_type": "code",
   "execution_count": null,
   "id": "e12a7363",
   "metadata": {},
   "outputs": [],
   "source": [
    "proportions = np.zeros(10000)\n",
    "for ...\n",
    "    #- The loop code.\n",
    "    ...\n",
    "\n",
    "# Show the first 10 proportions\n",
    "proportions[:10]"
   ]
  },
  {
   "cell_type": "markdown",
   "id": "1b0b9354",
   "metadata": {},
   "source": [
    "Test your answer."
   ]
  },
  {
   "cell_type": "code",
   "execution_count": null,
   "id": "3c51ce44",
   "metadata": {},
   "outputs": [],
   "source": [
    "_ = ok.grade('q_2_proportions')"
   ]
  },
  {
   "cell_type": "markdown",
   "id": "1ffffed4",
   "metadata": {},
   "source": [
    "Calculate the *proportion* of the 10000 `proportions` numbers that are greater\n",
    "than, or equal to, `p_gt_0` (the value you calculated above).  Store this\n",
    "proportion in `p_props_greater`."
   ]
  },
  {
   "cell_type": "code",
   "execution_count": null,
   "id": "51930770",
   "metadata": {},
   "outputs": [],
   "source": [
    "p_props_greater = ...\n",
    "\n",
    "# Show the value\n",
    "p_props_greater"
   ]
  },
  {
   "cell_type": "markdown",
   "id": "15aac043",
   "metadata": {},
   "source": [
    "Test your answer:"
   ]
  },
  {
   "cell_type": "code",
   "execution_count": null,
   "id": "5f2386ae",
   "metadata": {},
   "outputs": [],
   "source": [
    "_ = ok.grade('q_p_props_greater')"
   ]
  },
  {
   "cell_type": "markdown",
   "id": "23f74e42",
   "metadata": {},
   "source": [
    "You will probably conclude, with Arbuthnot, that these christening numbers are\n",
    "extremely unlikely, if there really is an equal chance of there being more\n",
    "girls than boys, or more boys than girls, in any one year."
   ]
  },
  {
   "cell_type": "markdown",
   "id": "fbdff49f",
   "metadata": {},
   "source": [
    "Did Arbuthnot really need 82 years' worth of data?\n",
    "\n",
    "Could he have made do with the values from 1629?\n",
    "\n",
    "These were:"
   ]
  },
  {
   "cell_type": "code",
   "execution_count": null,
   "id": "6507e370",
   "metadata": {},
   "outputs": [],
   "source": [
    "# Run this cell.\n",
    "all_1629 = christenings.iloc[0]\n",
    "males_1629 = all_1629.loc['Males']\n",
    "total_1629 = all_1629.loc['Males'] + all_1629.loc['Females']\n",
    "print('Male christenings in 1629:', males_1629)\n",
    "print('Total christenings in 1629:', total_1629)"
   ]
  },
  {
   "cell_type": "markdown",
   "id": "e73cdc5f",
   "metadata": {},
   "source": [
    "Let us assume a model world where there is an equal chance of a male or a\n",
    "female birth, and christening.  There is a year in that world with 9901 births.\n",
    "In that model world, in that year, what is the chance that there will be 5218\n",
    "or more male christenings?  (Remember, we found earlier, that there were 535\n",
    "more males than females).\n",
    "\n",
    "Here is a simulation of one year of that model world:"
   ]
  },
  {
   "cell_type": "code",
   "execution_count": null,
   "id": "b22bdf82",
   "metadata": {},
   "outputs": [],
   "source": [
    "# Run this cell.\n",
    "# One trial in a simulation of the ideal world.\n",
    "# Toss a coin for each of the 9901 christenings, 0=female, 1=male.\n",
    "one_year = np.random.randint(0, 2, size=9901)\n",
    "# Count the number of males.\n",
    "n_males = np.count_nonzero(one_year == 1)\n",
    "# Show the value\n",
    "n_males"
   ]
  },
  {
   "cell_type": "markdown",
   "id": "ec8077ba",
   "metadata": {},
   "source": [
    "Now you know how to do one trial, write a for loop to do 10000 trials like this one.  Store the result of each trial in an array `male_counts`."
   ]
  },
  {
   "cell_type": "code",
   "execution_count": null,
   "id": "0dd9a4a6",
   "metadata": {},
   "outputs": [],
   "source": [
    "male_counts = ...\n",
    "for ...\n",
    "    ...\n",
    "\n",
    "# Show the first 10 values\n",
    "male_counts[:10]"
   ]
  },
  {
   "cell_type": "markdown",
   "id": "f734d631",
   "metadata": {},
   "source": [
    "Test your answer:"
   ]
  },
  {
   "cell_type": "code",
   "execution_count": null,
   "id": "b5ad423e",
   "metadata": {},
   "outputs": [],
   "source": [
    "_ = ok.grade('q_2_male_counts')"
   ]
  },
  {
   "cell_type": "markdown",
   "id": "9d3c3ed4",
   "metadata": {},
   "source": [
    "Find the proportion of these trials that gave a value for the number of males\n",
    "that is greater than or equal to 5218."
   ]
  },
  {
   "cell_type": "code",
   "execution_count": null,
   "id": "a9bd512c",
   "metadata": {},
   "outputs": [],
   "source": [
    "#- Proportion of \"male_counts\" values greater or equal to 5218.\n",
    "p_males_gte = ...\n",
    "\n",
    "# Show the value\n",
    "p_males_gte"
   ]
  },
  {
   "cell_type": "markdown",
   "id": "4a836470",
   "metadata": {},
   "source": [
    "Test your answer:"
   ]
  },
  {
   "cell_type": "code",
   "execution_count": null,
   "id": "b0adc97e",
   "metadata": {},
   "outputs": [],
   "source": [
    "_ = ok.grade('q_p_males_gte')"
   ]
  },
  {
   "cell_type": "markdown",
   "id": "0b1cfe54",
   "metadata": {},
   "source": [
    "Based on the evidence above, how likely is it that the observed number of\n",
    "males, 5218 out of 9901, came from a random sample from this ideal model of the\n",
    "world, where there is an equal chance of a male or female christening?\n",
    "\n",
    "Assign either 1, 2, 3, 4, or 5 to the name `likely_outcome_from_ideal` below.\n",
    "\n",
    "1. Reasonably likely.\n",
    "2. Fairly unlikely, but not unlikely enough to be surprising.\n",
    "3. Unlikely, but we still cannot be confident the model is incorrect.\n",
    "4. Highly unlikely, we have strong evidence the model is incorrect.\n",
    "5. The observed result is logically impossible given the model of equal chances\n",
    "   of male and female."
   ]
  },
  {
   "cell_type": "code",
   "execution_count": null,
   "id": "756536d4",
   "metadata": {},
   "outputs": [],
   "source": [
    "likely_outcome_from_ideal = ..."
   ]
  },
  {
   "cell_type": "markdown",
   "id": "7a97594c",
   "metadata": {},
   "source": [
    "The next cell checks that your answer above is in the correct format. This\n",
    "test *does not* check that you answered correctly; only that you assigned a\n",
    "number successfully in the multiple-choice answer cell."
   ]
  },
  {
   "cell_type": "code",
   "execution_count": null,
   "id": "568f65ba",
   "metadata": {},
   "outputs": [],
   "source": [
    "_ = ok.grade('q_outcome_ideal')"
   ]
  },
  {
   "cell_type": "markdown",
   "id": "0020f312",
   "metadata": {},
   "source": [
    "Finally, we might be interested to find the ratio of male births to all births.\n",
    "\n",
    "In the UK, currently, the [proportion of boys born in the\n",
    "UK](https://www.gov.uk/government/statistics/gender-ratios-at-birth-in-great-britain-2010-to-2014) is 0.513.\n",
    "\n",
    "What was the equivalent value in Arbuthnot's data?  That is, what is the ratio of male births to all births, over all 82 years of Arbuthnot's data?"
   ]
  },
  {
   "cell_type": "code",
   "execution_count": null,
   "id": "c83e28a2",
   "metadata": {},
   "outputs": [],
   "source": [
    "m_to_all_ratio = ...\n",
    "# Show the value\n",
    "m_to_all_ratio"
   ]
  },
  {
   "cell_type": "code",
   "execution_count": null,
   "id": "cb0bb2f3",
   "metadata": {},
   "outputs": [],
   "source": [
    "_ = ok.grade('q_m_to_all_ratio')"
   ]
  },
  {
   "cell_type": "markdown",
   "id": "413b9d97",
   "metadata": {},
   "source": [
    "## Done\n",
    "\n",
    "You're finished with the assignment!  Be sure to...\n",
    "\n",
    "- **run all the tests** (the next cell has a shortcut for that),\n",
    "- **Save and Checkpoint** from the \"File\" menu."
   ]
  },
  {
   "cell_type": "code",
   "execution_count": null,
   "id": "2460848e",
   "metadata": {},
   "outputs": [],
   "source": [
    "# For your convenience, you can run this cell to run all the tests at once!\n",
    "import os\n",
    "_ = [ok.grade(q[:-3]) for q in sorted(os.listdir(\"tests\")) if q.startswith('q')]"
   ]
  }
 ],
 "metadata": {
  "jupytext": {
   "split_at_heading": true,
   "text_representation": {
    "extension": ".Rmd",
    "format_name": "rmarkdown",
    "format_version": "1.1",
    "jupytext_version": "1.2.4"
   }
  },
  "kernelspec": {
   "display_name": "Python 3",
   "language": "python",
   "name": "python3"
  }
 },
 "nbformat": 4,
 "nbformat_minor": 5
}
